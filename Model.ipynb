{
 "cells": [
  {
   "cell_type": "code",
   "execution_count": 1,
   "metadata": {},
   "outputs": [
    {
     "name": "stdout",
     "output_type": "stream",
     "text": [
      "Populating the interactive namespace from numpy and matplotlib\n"
     ]
    }
   ],
   "source": [
    "import torch\n",
    "import torch.nn as nn\n",
    "import torch.nn.functional as F\n",
    "from tqdm import trange\n",
    "import numpy as np\n",
    "%pylab inline"
   ]
  },
  {
   "cell_type": "code",
   "execution_count": 2,
   "metadata": {},
   "outputs": [],
   "source": [
    "from src.data.datamatrices import DataMatrices\n",
    "from config import config\n",
    "_matrix = DataMatrices.create_from_config(config)"
   ]
  },
  {
   "cell_type": "code",
   "execution_count": 3,
   "metadata": {},
   "outputs": [],
   "source": [
    "class CNN(nn.Module):\n",
    "    def __init__(self, in_features, rows, cols, device = torch.device(\"cpu\")):\n",
    "        super(CNN, self).__init__()\n",
    "\n",
    "        out1 = 2\n",
    "        out2 = 20\n",
    "        kernel1 = (1,3)\n",
    "        kernel2 = (1,cols-2) # cols - (kernel1[1] - 1)\n",
    "\n",
    "        self.conv1 = nn.Conv2d(in_features, out1, kernel1)\n",
    "        self.conv2 = nn.Conv2d(out1, out2, kernel2)\n",
    "        self.votes = nn.Conv2d(out2+1, 1, (1,1)) # input features is out2 plus the appended last_weights\n",
    "        \n",
    "        # BTC bias\n",
    "        b = torch.zeros((1,1))\n",
    "        self.b = nn.Parameter(b)\n",
    "\n",
    "    def forward(self, x, w):\n",
    "        x = self.conv1(x)\n",
    "        x = F.relu(x)\n",
    "        x = self.conv2(x)\n",
    "        x = F.relu(x)\n",
    "        x = torch.cat((x,w),dim=1)\n",
    "        x = self.votes(x)\n",
    "        x = torch.squeeze(x)\n",
    "        \n",
    "        cash = self.b.repeat(x.size()[0], 1)\n",
    "        \n",
    "        x = torch.cat((cash, x), dim=1)\n",
    "        x = F.softmax(x, dim=1)\n",
    "        \n",
    "        return x"
   ]
  },
  {
   "cell_type": "code",
   "execution_count": 21,
   "metadata": {},
   "outputs": [],
   "source": [
    "def loss_func(output, future_price, input_no):\n",
    "    #r_t = log(mu_t * y_t dot w_{t-1})\n",
    "    future_w = (future_price * output) / torch.sum(future_price * output, dim=1)[:, None]\n",
    "    pv_vector = torch.sum(output * future_price, dim=1) * (torch.cat([torch.ones(1), pure_pc(output, input_no, future_w)], dim=0))\n",
    "    return -torch.mean(torch.log(pv_vector))\n",
    "\n",
    "def pure_pc(output, input_no, future_w):\n",
    "    c = config[\"trading\"][\"trading_consumption\"]\n",
    "    w_t = future_w[:input_no-1]  # rebalanced\n",
    "    w_t1 = output[1:input_no]\n",
    "    mu = 1 - torch.sum(torch.abs(w_t1[:, 1:]-w_t[:, 1:]), dim=1)*c\n",
    "    return mu"
   ]
  },
  {
   "cell_type": "code",
   "execution_count": 22,
   "metadata": {},
   "outputs": [],
   "source": [
    "def batch():\n",
    "    batch = _matrix.next_batch()\n",
    "    w = torch.tensor(batch['last_w'])\n",
    "    w = w[:, None, : , None] # Concat along dim=1, the features dim)\n",
    "    X = torch.tensor(batch['X'])\n",
    "    y = torch.tensor(batch['y'])\n",
    "    return X, w, y, batch['setw']"
   ]
  },
  {
   "cell_type": "code",
   "execution_count": 23,
   "metadata": {},
   "outputs": [],
   "source": [
    "model = CNN(config[\"input\"][\"feature_no\"],\n",
    "            config[\"input\"][\"coin_no\"],\n",
    "           config[\"input\"][\"window_size\"])\n",
    "training = _matrix.get_training_set()\n",
    "w = torch.tensor(training['last_w'])\n",
    "w_train = w[:, None, : , None] # Concat along dim=1, the features dim)\n",
    "X_train = torch.tensor(training['X'])\n",
    "y_train = torch.tensor(training['y'])\n",
    "input_no_train = y_train.shape[0]\n",
    "future_price_train = torch.cat([torch.ones((input_no_train, 1)), y_train[:, 0, :]], dim=1)"
   ]
  },
  {
   "cell_type": "code",
   "execution_count": 24,
   "metadata": {},
   "outputs": [
    {
     "name": "stderr",
     "output_type": "stream",
     "text": [
      "100%|██████████| 100000/100000 [14:17<00:00, 116.58it/s]\n"
     ]
    },
    {
     "data": {
      "text/plain": [
       "[<matplotlib.lines.Line2D at 0x127351100>]"
      ]
     },
     "execution_count": 24,
     "metadata": {},
     "output_type": "execute_result"
    },
    {
     "data": {
      "image/png": "[encoded data removed]",
      "text/plain": [
       "<Figure size 432x288 with 1 Axes>"
      ]
     },
     "metadata": {
      "needs_background": "light"
     },
     "output_type": "display_data"
    }
   ],
   "source": [
    "learning_rate = 0.00028\n",
    "# optimizer = torch.optim.Adam([\n",
    "#         {'params': model.parameters()},\n",
    "#         {'params': model.b}\n",
    "# ], lr=learning_rate)\n",
    "\n",
    "optimizer = torch.optim.Adam(model.parameters(), lr=learning_rate)\n",
    "losses = []\n",
    "\n",
    "for i in (t:=trange(100000)):\n",
    "    X, w, y, setw = batch()\n",
    "    X = X / X[:, 0, None, :, -1, None]\n",
    "    input_no = y.shape[0]\n",
    "    future_price = torch.cat([torch.ones((input_no, 1)), y[:, 0, :]], dim=1) # Add cash price (always 1)\n",
    "    \n",
    "    output = model(X, w)\n",
    "    loss = loss_func(output, future_price, input_no)\n",
    "    optimizer.zero_grad()\n",
    "    loss.backward()\n",
    "    optimizer.step()\n",
    "    if i%999==0:\n",
    "        out = model(X_train, w_train)\n",
    "        losses.append(loss_func(out, future_price_train, input_no_train))\n",
    "    setw(output[:, 1:].detach().numpy())\n",
    "\n",
    "plot(losses)"
   ]
  },
  {
   "cell_type": "code",
   "execution_count": null,
   "metadata": {},
   "outputs": [],
   "source": []
  }
 ],
 "metadata": {
  "kernelspec": {
   "display_name": "Python 3",
   "language": "python",
   "name": "python3"
  },
  "language_info": {
   "codemirror_mode": {
    "name": "ipython",
    "version": 3
   },
   "file_extension": ".py",
   "mimetype": "text/x-python",
   "name": "python",
   "nbconvert_exporter": "python",
   "pygments_lexer": "ipython3",
   "version": "3.8.5"
  }
 },
 "nbformat": 4,
 "nbformat_minor": 4
}
