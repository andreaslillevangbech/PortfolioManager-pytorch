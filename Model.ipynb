{
 "cells": [
  {
   "cell_type": "code",
   "execution_count": 1,
   "metadata": {},
   "outputs": [],
   "source": [
    "import torch\n",
    "import torch.nn as nn\n",
    "import torch.nn.functional as F\n",
    "from tqdm import trange"
   ]
  },
  {
   "cell_type": "code",
   "execution_count": 2,
   "metadata": {},
   "outputs": [],
   "source": [
    "class CNN(nn.Module):\n",
    "    def __init__(self, in_features, rows, cols, device = torch.device(\"cpu\")):\n",
    "        super(CNN, self).__init__()\n",
    "\n",
    "        out1 = 2\n",
    "        out2 = 20\n",
    "        kernel1 = (1,3)\n",
    "        kernel2 = (1,cols-2) # cols - (kernel1[1] - 1)\n",
    "\n",
    "        self.conv1 = nn.Conv2d(in_features, out1, kernel1)\n",
    "        self.conv2 = nn.Conv2d(out1, out2, kernel2)\n",
    "        self.votes = nn.Conv2d(out2+1, 1, (1,1)) # input features is out2 plus the appended last_weights\n",
    "        \n",
    "        # BTC bias\n",
    "        b = torch.zeros((1,1)) #requires_grad=True)\n",
    "        self.b = nn.Parameter(b)\n",
    "\n",
    "    def forward(self, x, w):\n",
    "        x = self.conv1(x)\n",
    "        x = F.relu(x)\n",
    "        x = self.conv2(x)\n",
    "        x = F.relu(x)\n",
    "        x = torch.cat((x,w),dim=1)\n",
    "        x = self.votes(x)\n",
    "        x = torch.squeeze(x)\n",
    "        \n",
    "        cash = self.b.repeat(x.size()[0], 1)\n",
    "        \n",
    "        x = torch.cat((cash, x), dim=1)\n",
    "        # x = F.softmax(x, dim=1)\n",
    "        \n",
    "        return x"
   ]
  },
  {
   "cell_type": "code",
   "execution_count": 3,
   "metadata": {},
   "outputs": [
    {
     "output_type": "execute_result",
     "data": {
      "text/plain": [
       "torch.Size([16, 6])"
      ]
     },
     "metadata": {},
     "execution_count": 3
    }
   ],
   "source": [
    "feat = 2\n",
    "window = 10\n",
    "coins = 5\n",
    "x = torch.rand(16, feat, coins, window)\n",
    "w = torch.rand(16, coins)\n",
    "w = w[:,None, : , None]\n",
    "model = CNN(feat,coins,window)\n",
    "out = model(x, w)\n",
    "out.shape"
   ]
  },
  {
   "cell_type": "code",
   "execution_count": 4,
   "metadata": {},
   "outputs": [
    {
     "output_type": "stream",
     "name": "stderr",
     "text": [
      "loss 568.37: 100%|██████████| 1000/1000 [00:12<00:00, 78.70it/s]\n"
     ]
    }
   ],
   "source": [
    "learning_rate = 1e-4\n",
    "# optimizer = torch.optim.Adam([\n",
    "#         {'params': model.parameters()},\n",
    "#         {'params': model.b}\n",
    "# ], lr=learning_rate)\n",
    "\n",
    "optimizer = torch.optim.Adam(model.parameters(), lr=learning_rate)\n",
    "\n",
    "for i in (t:=trange(1000)):\n",
    "    y = model(x,w)\n",
    "    loss = (y-5).pow(2).sum()\n",
    "    optimizer.zero_grad()\n",
    "    loss.backward()\n",
    "    optimizer.step()\n",
    "    t.set_description(\"loss %.2f\" % loss.item())"
   ]
  },
  {
   "cell_type": "code",
   "execution_count": 13,
   "metadata": {},
   "outputs": [
    {
     "output_type": "stream",
     "name": "stdout",
     "text": [
      "b\nconv1.weight\nconv1.bias\nconv2.weight\nconv2.bias\nvotes.weight\nvotes.bias\n"
     ]
    }
   ],
   "source": [
    "for name, param in model.named_parameters():\n",
    "    print(name)"
   ]
  },
  {
   "cell_type": "code",
   "execution_count": null,
   "metadata": {},
   "outputs": [],
   "source": [
    "w = torch.rand(2,2)\n",
    "w[:,None,:, None].shape"
   ]
  },
  {
   "cell_type": "code",
   "execution_count": null,
   "metadata": {},
   "outputs": [],
   "source": [
    "b = torch.zeros((1,1), requires_grad=True)\n",
    "b.repeat(5,1)"
   ]
  },
  {
   "cell_type": "code",
   "execution_count": 56,
   "metadata": {},
   "outputs": [
    {
     "output_type": "execute_result",
     "data": {
      "text/plain": [
       "tensor(1024.)"
      ]
     },
     "metadata": {},
     "execution_count": 56
    }
   ],
   "source": [
    "a = (torch.ones(5)*2)**2\n",
    "torch.prod(a)"
   ]
  },
  {
   "cell_type": "code",
   "execution_count": null,
   "metadata": {},
   "outputs": [],
   "source": []
  }
 ],
 "metadata": {
  "kernelspec": {
   "name": "Python 3.8.5 64-bit ('venv')",
   "display_name": "Python 3.8.5 64-bit ('venv')",
   "metadata": {
    "interpreter": {
     "hash": "19414beb875a9b6b6529729375958eed20cb8dd180beadd85bd1a9919e32127a"
    }
   }
  },
  "language_info": {
   "codemirror_mode": {
    "name": "ipython",
    "version": 3
   },
   "file_extension": ".py",
   "mimetype": "text/x-python",
   "name": "python",
   "nbconvert_exporter": "python",
   "pygments_lexer": "ipython3",
   "version": "3.8.5-final"
  }
 },
 "nbformat": 4,
 "nbformat_minor": 4
}